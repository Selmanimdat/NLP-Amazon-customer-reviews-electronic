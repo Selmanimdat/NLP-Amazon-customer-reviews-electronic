{
 "cells": [
  {
   "cell_type": "markdown",
   "id": "Q3qS5shu0DRH",
   "metadata": {
    "id": "Q3qS5shu0DRH"
   },
   "source": [
    "# NLP analysis cutomor rewiews for electronic"
   ]
  },
  {
   "cell_type": "code",
   "execution_count": 1,
   "id": "7_ArQ2No0CxE",
   "metadata": {
    "id": "7_ArQ2No0CxE"
   },
   "outputs": [],
   "source": [
    "# we will analysis data from amazon customers rewiews we will make sentiment analysis and wordcloud  and predict rating"
   ]
  },
  {
   "cell_type": "code",
   "execution_count": 19,
   "id": "WaWGNOgl5R86",
   "metadata": {
    "colab": {
     "base_uri": "https://localhost:8080/"
    },
    "id": "WaWGNOgl5R86",
    "outputId": "591d3780-6bf3-4c69-b625-e8eb2d369d93"
   },
   "outputs": [
    {
     "name": "stdout",
     "output_type": "stream",
     "text": [
      "Requirement already satisfied: nltk in /usr/local/lib/python3.10/dist-packages (3.8.1)\n",
      "Requirement already satisfied: click in /usr/local/lib/python3.10/dist-packages (from nltk) (8.1.7)\n",
      "Requirement already satisfied: joblib in /usr/local/lib/python3.10/dist-packages (from nltk) (1.3.2)\n",
      "Requirement already satisfied: regex>=2021.8.3 in /usr/local/lib/python3.10/dist-packages (from nltk) (2023.6.3)\n",
      "Requirement already satisfied: tqdm in /usr/local/lib/python3.10/dist-packages (from nltk) (4.66.1)\n"
     ]
    }
   ],
   "source": [
    "!pip install nltk"
   ]
  },
  {
   "cell_type": "code",
   "execution_count": 2,
   "id": "p6WOwRZa0hdg",
   "metadata": {
    "id": "p6WOwRZa0hdg"
   },
   "outputs": [],
   "source": [
    "#libraires"
   ]
  },
  {
   "cell_type": "code",
   "execution_count": 89,
   "id": "wP9A2ZdS0jW4",
   "metadata": {
    "id": "wP9A2ZdS0jW4"
   },
   "outputs": [],
   "source": [
    "import pandas as pd\n",
    "import os\n",
    "import nltk\n",
    "from nltk.tokenize import word_tokenize, sent_tokenize\n",
    "from nltk.stem import WordNetLemmatizer\n",
    "import seaborn as sns\n",
    "from sklearn.feature_extraction.text import CountVectorizer\n",
    "from sklearn.model_selection import train_test_split\n",
    "from sklearn.metrics import accuracy_score\n",
    "\n",
    "import warnings\n",
    "warnings.filterwarnings(\"ignore\")"
   ]
  },
  {
   "cell_type": "code",
   "execution_count": 4,
   "id": "dq5g-rnx0svk",
   "metadata": {
    "id": "dq5g-rnx0svk"
   },
   "outputs": [],
   "source": [
    "#load data"
   ]
  },
  {
   "cell_type": "code",
   "execution_count": 6,
   "id": "KOQTBGoo0ul5",
   "metadata": {
    "colab": {
     "base_uri": "https://localhost:8080/",
     "height": 1000
    },
    "id": "KOQTBGoo0ul5",
    "outputId": "18d4114f-adce-4f17-fcdc-4e163d18a922"
   },
   "outputs": [
    {
     "data": {
      "text/html": [
       "\n",
       "  <div id=\"df-dc070e13-4c2c-4a9c-9576-8e1b6ed5b36d\" class=\"colab-df-container\">\n",
       "    <div>\n",
       "<style scoped>\n",
       "    .dataframe tbody tr th:only-of-type {\n",
       "        vertical-align: middle;\n",
       "    }\n",
       "\n",
       "    .dataframe tbody tr th {\n",
       "        vertical-align: top;\n",
       "    }\n",
       "\n",
       "    .dataframe thead th {\n",
       "        text-align: right;\n",
       "    }\n",
       "</style>\n",
       "<table border=\"1\" class=\"dataframe\">\n",
       "  <thead>\n",
       "    <tr style=\"text-align: right;\">\n",
       "      <th></th>\n",
       "      <th>reviewerID</th>\n",
       "      <th>asin</th>\n",
       "      <th>reviewerName</th>\n",
       "      <th>helpful</th>\n",
       "      <th>reviewText</th>\n",
       "      <th>overall</th>\n",
       "      <th>summary</th>\n",
       "      <th>unixReviewTime</th>\n",
       "      <th>reviewTime</th>\n",
       "    </tr>\n",
       "  </thead>\n",
       "  <tbody>\n",
       "    <tr>\n",
       "      <th>0</th>\n",
       "      <td>AO94DHGC771SJ</td>\n",
       "      <td>0528881469</td>\n",
       "      <td>amazdnu</td>\n",
       "      <td>[0, 0]</td>\n",
       "      <td>We got this GPS for my husband who is an (OTR)...</td>\n",
       "      <td>5</td>\n",
       "      <td>Gotta have GPS!</td>\n",
       "      <td>1370131200</td>\n",
       "      <td>06 2, 2013</td>\n",
       "    </tr>\n",
       "    <tr>\n",
       "      <th>1</th>\n",
       "      <td>AMO214LNFCEI4</td>\n",
       "      <td>0528881469</td>\n",
       "      <td>Amazon Customer</td>\n",
       "      <td>[12, 15]</td>\n",
       "      <td>I'm a professional OTR truck driver, and I bou...</td>\n",
       "      <td>1</td>\n",
       "      <td>Very Disappointed</td>\n",
       "      <td>1290643200</td>\n",
       "      <td>11 25, 2010</td>\n",
       "    </tr>\n",
       "    <tr>\n",
       "      <th>2</th>\n",
       "      <td>A3N7T0DY83Y4IG</td>\n",
       "      <td>0528881469</td>\n",
       "      <td>C. A. Freeman</td>\n",
       "      <td>[43, 45]</td>\n",
       "      <td>Well, what can I say.  I've had this unit in m...</td>\n",
       "      <td>3</td>\n",
       "      <td>1st impression</td>\n",
       "      <td>1283990400</td>\n",
       "      <td>09 9, 2010</td>\n",
       "    </tr>\n",
       "    <tr>\n",
       "      <th>3</th>\n",
       "      <td>A1H8PY3QHMQQA0</td>\n",
       "      <td>0528881469</td>\n",
       "      <td>Dave M. Shaw \"mack dave\"</td>\n",
       "      <td>[9, 10]</td>\n",
       "      <td>Not going to write a long review, even thought...</td>\n",
       "      <td>2</td>\n",
       "      <td>Great grafics, POOR GPS</td>\n",
       "      <td>1290556800</td>\n",
       "      <td>11 24, 2010</td>\n",
       "    </tr>\n",
       "    <tr>\n",
       "      <th>4</th>\n",
       "      <td>A24EV6RXELQZ63</td>\n",
       "      <td>0528881469</td>\n",
       "      <td>Wayne Smith</td>\n",
       "      <td>[0, 0]</td>\n",
       "      <td>I've had mine for a year and here's what we go...</td>\n",
       "      <td>1</td>\n",
       "      <td>Major issues, only excuses for support</td>\n",
       "      <td>1317254400</td>\n",
       "      <td>09 29, 2011</td>\n",
       "    </tr>\n",
       "    <tr>\n",
       "      <th>5</th>\n",
       "      <td>A2JXAZZI9PHK9Z</td>\n",
       "      <td>0594451647</td>\n",
       "      <td>Billy G. Noland \"Bill Noland\"</td>\n",
       "      <td>[3, 3]</td>\n",
       "      <td>I am using this with a Nook HD+. It works as d...</td>\n",
       "      <td>5</td>\n",
       "      <td>HDMI Nook adapter cable</td>\n",
       "      <td>1388707200</td>\n",
       "      <td>01 3, 2014</td>\n",
       "    </tr>\n",
       "    <tr>\n",
       "      <th>6</th>\n",
       "      <td>A2P5U7BDKKT7FW</td>\n",
       "      <td>0594451647</td>\n",
       "      <td>Christian</td>\n",
       "      <td>[0, 0]</td>\n",
       "      <td>The cable is very wobbly and sometimes disconn...</td>\n",
       "      <td>2</td>\n",
       "      <td>Cheap proprietary scam</td>\n",
       "      <td>1398556800</td>\n",
       "      <td>04 27, 2014</td>\n",
       "    </tr>\n",
       "    <tr>\n",
       "      <th>7</th>\n",
       "      <td>AAZ084UMH8VZ2</td>\n",
       "      <td>0594451647</td>\n",
       "      <td>D. L. Brown \"A Knower Of Good Things\"</td>\n",
       "      <td>[0, 0]</td>\n",
       "      <td>This adaptor is real easy to setup and use rig...</td>\n",
       "      <td>5</td>\n",
       "      <td>A Perfdect Nook HD+ hook up</td>\n",
       "      <td>1399161600</td>\n",
       "      <td>05 4, 2014</td>\n",
       "    </tr>\n",
       "    <tr>\n",
       "      <th>8</th>\n",
       "      <td>AEZ3CR6BKIROJ</td>\n",
       "      <td>0594451647</td>\n",
       "      <td>Mark Dietter</td>\n",
       "      <td>[0, 0]</td>\n",
       "      <td>This adapter easily connects my Nook HD 7&amp;#34;...</td>\n",
       "      <td>4</td>\n",
       "      <td>A nice easy to use accessory.</td>\n",
       "      <td>1405036800</td>\n",
       "      <td>07 11, 2014</td>\n",
       "    </tr>\n",
       "    <tr>\n",
       "      <th>9</th>\n",
       "      <td>A3BY5KCNQZXV5U</td>\n",
       "      <td>0594451647</td>\n",
       "      <td>Matenai</td>\n",
       "      <td>[3, 3]</td>\n",
       "      <td>This product really works great but I found th...</td>\n",
       "      <td>5</td>\n",
       "      <td>This works great but read the details...</td>\n",
       "      <td>1390176000</td>\n",
       "      <td>01 20, 2014</td>\n",
       "    </tr>\n",
       "  </tbody>\n",
       "</table>\n",
       "</div>\n",
       "    <div class=\"colab-df-buttons\">\n",
       "\n",
       "  <div class=\"colab-df-container\">\n",
       "    <button class=\"colab-df-convert\" onclick=\"convertToInteractive('df-dc070e13-4c2c-4a9c-9576-8e1b6ed5b36d')\"\n",
       "            title=\"Convert this dataframe to an interactive table.\"\n",
       "            style=\"display:none;\">\n",
       "\n",
       "  <svg xmlns=\"http://www.w3.org/2000/svg\" height=\"24px\" viewBox=\"0 -960 960 960\">\n",
       "    <path d=\"M120-120v-720h720v720H120Zm60-500h600v-160H180v160Zm220 220h160v-160H400v160Zm0 220h160v-160H400v160ZM180-400h160v-160H180v160Zm440 0h160v-160H620v160ZM180-180h160v-160H180v160Zm440 0h160v-160H620v160Z\"/>\n",
       "  </svg>\n",
       "    </button>\n",
       "\n",
       "  <style>\n",
       "    .colab-df-container {\n",
       "      display:flex;\n",
       "      gap: 12px;\n",
       "    }\n",
       "\n",
       "    .colab-df-convert {\n",
       "      background-color: #E8F0FE;\n",
       "      border: none;\n",
       "      border-radius: 50%;\n",
       "      cursor: pointer;\n",
       "      display: none;\n",
       "      fill: #1967D2;\n",
       "      height: 32px;\n",
       "      padding: 0 0 0 0;\n",
       "      width: 32px;\n",
       "    }\n",
       "\n",
       "    .colab-df-convert:hover {\n",
       "      background-color: #E2EBFA;\n",
       "      box-shadow: 0px 1px 2px rgba(60, 64, 67, 0.3), 0px 1px 3px 1px rgba(60, 64, 67, 0.15);\n",
       "      fill: #174EA6;\n",
       "    }\n",
       "\n",
       "    .colab-df-buttons div {\n",
       "      margin-bottom: 4px;\n",
       "    }\n",
       "\n",
       "    [theme=dark] .colab-df-convert {\n",
       "      background-color: #3B4455;\n",
       "      fill: #D2E3FC;\n",
       "    }\n",
       "\n",
       "    [theme=dark] .colab-df-convert:hover {\n",
       "      background-color: #434B5C;\n",
       "      box-shadow: 0px 1px 3px 1px rgba(0, 0, 0, 0.15);\n",
       "      filter: drop-shadow(0px 1px 2px rgba(0, 0, 0, 0.3));\n",
       "      fill: #FFFFFF;\n",
       "    }\n",
       "  </style>\n",
       "\n",
       "    <script>\n",
       "      const buttonEl =\n",
       "        document.querySelector('#df-dc070e13-4c2c-4a9c-9576-8e1b6ed5b36d button.colab-df-convert');\n",
       "      buttonEl.style.display =\n",
       "        google.colab.kernel.accessAllowed ? 'block' : 'none';\n",
       "\n",
       "      async function convertToInteractive(key) {\n",
       "        const element = document.querySelector('#df-dc070e13-4c2c-4a9c-9576-8e1b6ed5b36d');\n",
       "        const dataTable =\n",
       "          await google.colab.kernel.invokeFunction('convertToInteractive',\n",
       "                                                    [key], {});\n",
       "        if (!dataTable) return;\n",
       "\n",
       "        const docLinkHtml = 'Like what you see? Visit the ' +\n",
       "          '<a target=\"_blank\" href=https://colab.research.google.com/notebooks/data_table.ipynb>data table notebook</a>'\n",
       "          + ' to learn more about interactive tables.';\n",
       "        element.innerHTML = '';\n",
       "        dataTable['output_type'] = 'display_data';\n",
       "        await google.colab.output.renderOutput(dataTable, element);\n",
       "        const docLink = document.createElement('div');\n",
       "        docLink.innerHTML = docLinkHtml;\n",
       "        element.appendChild(docLink);\n",
       "      }\n",
       "    </script>\n",
       "  </div>\n",
       "\n",
       "\n",
       "<div id=\"df-32712e5b-87b5-462e-a995-961848a7aba7\">\n",
       "  <button class=\"colab-df-quickchart\" onclick=\"quickchart('df-32712e5b-87b5-462e-a995-961848a7aba7')\"\n",
       "            title=\"Suggest charts\"\n",
       "            style=\"display:none;\">\n",
       "\n",
       "<svg xmlns=\"http://www.w3.org/2000/svg\" height=\"24px\"viewBox=\"0 0 24 24\"\n",
       "     width=\"24px\">\n",
       "    <g>\n",
       "        <path d=\"M19 3H5c-1.1 0-2 .9-2 2v14c0 1.1.9 2 2 2h14c1.1 0 2-.9 2-2V5c0-1.1-.9-2-2-2zM9 17H7v-7h2v7zm4 0h-2V7h2v10zm4 0h-2v-4h2v4z\"/>\n",
       "    </g>\n",
       "</svg>\n",
       "  </button>\n",
       "\n",
       "<style>\n",
       "  .colab-df-quickchart {\n",
       "      --bg-color: #E8F0FE;\n",
       "      --fill-color: #1967D2;\n",
       "      --hover-bg-color: #E2EBFA;\n",
       "      --hover-fill-color: #174EA6;\n",
       "      --disabled-fill-color: #AAA;\n",
       "      --disabled-bg-color: #DDD;\n",
       "  }\n",
       "\n",
       "  [theme=dark] .colab-df-quickchart {\n",
       "      --bg-color: #3B4455;\n",
       "      --fill-color: #D2E3FC;\n",
       "      --hover-bg-color: #434B5C;\n",
       "      --hover-fill-color: #FFFFFF;\n",
       "      --disabled-bg-color: #3B4455;\n",
       "      --disabled-fill-color: #666;\n",
       "  }\n",
       "\n",
       "  .colab-df-quickchart {\n",
       "    background-color: var(--bg-color);\n",
       "    border: none;\n",
       "    border-radius: 50%;\n",
       "    cursor: pointer;\n",
       "    display: none;\n",
       "    fill: var(--fill-color);\n",
       "    height: 32px;\n",
       "    padding: 0;\n",
       "    width: 32px;\n",
       "  }\n",
       "\n",
       "  .colab-df-quickchart:hover {\n",
       "    background-color: var(--hover-bg-color);\n",
       "    box-shadow: 0 1px 2px rgba(60, 64, 67, 0.3), 0 1px 3px 1px rgba(60, 64, 67, 0.15);\n",
       "    fill: var(--button-hover-fill-color);\n",
       "  }\n",
       "\n",
       "  .colab-df-quickchart-complete:disabled,\n",
       "  .colab-df-quickchart-complete:disabled:hover {\n",
       "    background-color: var(--disabled-bg-color);\n",
       "    fill: var(--disabled-fill-color);\n",
       "    box-shadow: none;\n",
       "  }\n",
       "\n",
       "  .colab-df-spinner {\n",
       "    border: 2px solid var(--fill-color);\n",
       "    border-color: transparent;\n",
       "    border-bottom-color: var(--fill-color);\n",
       "    animation:\n",
       "      spin 1s steps(1) infinite;\n",
       "  }\n",
       "\n",
       "  @keyframes spin {\n",
       "    0% {\n",
       "      border-color: transparent;\n",
       "      border-bottom-color: var(--fill-color);\n",
       "      border-left-color: var(--fill-color);\n",
       "    }\n",
       "    20% {\n",
       "      border-color: transparent;\n",
       "      border-left-color: var(--fill-color);\n",
       "      border-top-color: var(--fill-color);\n",
       "    }\n",
       "    30% {\n",
       "      border-color: transparent;\n",
       "      border-left-color: var(--fill-color);\n",
       "      border-top-color: var(--fill-color);\n",
       "      border-right-color: var(--fill-color);\n",
       "    }\n",
       "    40% {\n",
       "      border-color: transparent;\n",
       "      border-right-color: var(--fill-color);\n",
       "      border-top-color: var(--fill-color);\n",
       "    }\n",
       "    60% {\n",
       "      border-color: transparent;\n",
       "      border-right-color: var(--fill-color);\n",
       "    }\n",
       "    80% {\n",
       "      border-color: transparent;\n",
       "      border-right-color: var(--fill-color);\n",
       "      border-bottom-color: var(--fill-color);\n",
       "    }\n",
       "    90% {\n",
       "      border-color: transparent;\n",
       "      border-bottom-color: var(--fill-color);\n",
       "    }\n",
       "  }\n",
       "</style>\n",
       "\n",
       "  <script>\n",
       "    async function quickchart(key) {\n",
       "      const quickchartButtonEl =\n",
       "        document.querySelector('#' + key + ' button');\n",
       "      quickchartButtonEl.disabled = true;  // To prevent multiple clicks.\n",
       "      quickchartButtonEl.classList.add('colab-df-spinner');\n",
       "      try {\n",
       "        const charts = await google.colab.kernel.invokeFunction(\n",
       "            'suggestCharts', [key], {});\n",
       "      } catch (error) {\n",
       "        console.error('Error during call to suggestCharts:', error);\n",
       "      }\n",
       "      quickchartButtonEl.classList.remove('colab-df-spinner');\n",
       "      quickchartButtonEl.classList.add('colab-df-quickchart-complete');\n",
       "    }\n",
       "    (() => {\n",
       "      let quickchartButtonEl =\n",
       "        document.querySelector('#df-32712e5b-87b5-462e-a995-961848a7aba7 button');\n",
       "      quickchartButtonEl.style.display =\n",
       "        google.colab.kernel.accessAllowed ? 'block' : 'none';\n",
       "    })();\n",
       "  </script>\n",
       "</div>\n",
       "    </div>\n",
       "  </div>\n"
      ],
      "text/plain": [
       "       reviewerID        asin                           reviewerName  \\\n",
       "0   AO94DHGC771SJ  0528881469                                amazdnu   \n",
       "1   AMO214LNFCEI4  0528881469                        Amazon Customer   \n",
       "2  A3N7T0DY83Y4IG  0528881469                          C. A. Freeman   \n",
       "3  A1H8PY3QHMQQA0  0528881469               Dave M. Shaw \"mack dave\"   \n",
       "4  A24EV6RXELQZ63  0528881469                            Wayne Smith   \n",
       "5  A2JXAZZI9PHK9Z  0594451647          Billy G. Noland \"Bill Noland\"   \n",
       "6  A2P5U7BDKKT7FW  0594451647                              Christian   \n",
       "7   AAZ084UMH8VZ2  0594451647  D. L. Brown \"A Knower Of Good Things\"   \n",
       "8   AEZ3CR6BKIROJ  0594451647                           Mark Dietter   \n",
       "9  A3BY5KCNQZXV5U  0594451647                                Matenai   \n",
       "\n",
       "    helpful                                         reviewText  overall  \\\n",
       "0    [0, 0]  We got this GPS for my husband who is an (OTR)...        5   \n",
       "1  [12, 15]  I'm a professional OTR truck driver, and I bou...        1   \n",
       "2  [43, 45]  Well, what can I say.  I've had this unit in m...        3   \n",
       "3   [9, 10]  Not going to write a long review, even thought...        2   \n",
       "4    [0, 0]  I've had mine for a year and here's what we go...        1   \n",
       "5    [3, 3]  I am using this with a Nook HD+. It works as d...        5   \n",
       "6    [0, 0]  The cable is very wobbly and sometimes disconn...        2   \n",
       "7    [0, 0]  This adaptor is real easy to setup and use rig...        5   \n",
       "8    [0, 0]  This adapter easily connects my Nook HD 7&#34;...        4   \n",
       "9    [3, 3]  This product really works great but I found th...        5   \n",
       "\n",
       "                                    summary  unixReviewTime   reviewTime  \n",
       "0                           Gotta have GPS!      1370131200   06 2, 2013  \n",
       "1                         Very Disappointed      1290643200  11 25, 2010  \n",
       "2                            1st impression      1283990400   09 9, 2010  \n",
       "3                   Great grafics, POOR GPS      1290556800  11 24, 2010  \n",
       "4    Major issues, only excuses for support      1317254400  09 29, 2011  \n",
       "5                   HDMI Nook adapter cable      1388707200   01 3, 2014  \n",
       "6                    Cheap proprietary scam      1398556800  04 27, 2014  \n",
       "7               A Perfdect Nook HD+ hook up      1399161600   05 4, 2014  \n",
       "8             A nice easy to use accessory.      1405036800  07 11, 2014  \n",
       "9  This works great but read the details...      1390176000  01 20, 2014  "
      ]
     },
     "metadata": {},
     "output_type": "display_data"
    }
   ],
   "source": [
    "import os\n",
    "import pandas as pd\n",
    "\n",
    "dataset = \"Electronics_5.json\"\n",
    "\n",
    "if os.path.isfile(dataset):\n",
    "    df = pd.read_json(\"Electronics_5.json\", lines=True)\n",
    "else:\n",
    "    url = r\"http://snap.stanford.edu/data/amazon/productGraph/categoryFiles/reviews_Electronics_5.json.gz\"\n",
    "    df = pd.read_json(url, compression='gzip', lines=True)\n",
    "\n",
    "display(df.head(10))"
   ]
  },
  {
   "cell_type": "code",
   "execution_count": 7,
   "id": "VJ7ODuin0yzZ",
   "metadata": {
    "colab": {
     "base_uri": "https://localhost:8080/",
     "height": 17
    },
    "id": "VJ7ODuin0yzZ",
    "outputId": "361eae04-63cd-41b7-ba4b-4b3475c40a2e"
   },
   "outputs": [
    {
     "data": {
      "application/javascript": [
       "\n",
       "    async function download(id, filename, size) {\n",
       "      if (!google.colab.kernel.accessAllowed) {\n",
       "        return;\n",
       "      }\n",
       "      const div = document.createElement('div');\n",
       "      const label = document.createElement('label');\n",
       "      label.textContent = `Downloading \"${filename}\": `;\n",
       "      div.appendChild(label);\n",
       "      const progress = document.createElement('progress');\n",
       "      progress.max = size;\n",
       "      div.appendChild(progress);\n",
       "      document.body.appendChild(div);\n",
       "\n",
       "      const buffers = [];\n",
       "      let downloaded = 0;\n",
       "\n",
       "      const channel = await google.colab.kernel.comms.open(id);\n",
       "      // Send a message to notify the kernel that we're ready.\n",
       "      channel.send({})\n",
       "\n",
       "      for await (const message of channel.messages) {\n",
       "        // Send a message to notify the kernel that we're ready.\n",
       "        channel.send({})\n",
       "        if (message.buffers) {\n",
       "          for (const buffer of message.buffers) {\n",
       "            buffers.push(buffer);\n",
       "            downloaded += buffer.byteLength;\n",
       "            progress.value = downloaded;\n",
       "          }\n",
       "        }\n",
       "      }\n",
       "      const blob = new Blob(buffers, {type: 'application/binary'});\n",
       "      const a = document.createElement('a');\n",
       "      a.href = window.URL.createObjectURL(blob);\n",
       "      a.download = filename;\n",
       "      div.appendChild(a);\n",
       "      a.click();\n",
       "      div.remove();\n",
       "    }\n",
       "  "
      ],
      "text/plain": [
       "<IPython.core.display.Javascript object>"
      ]
     },
     "metadata": {},
     "output_type": "display_data"
    },
    {
     "data": {
      "application/javascript": [
       "download(\"download_3f02b312-69e9-47c9-b793-ef6cb066feda\", \"amazon.csv\", 1264147732)"
      ],
      "text/plain": [
       "<IPython.core.display.Javascript object>"
      ]
     },
     "metadata": {},
     "output_type": "display_data"
    }
   ],
   "source": [
    "df.to_csv(\"amazon.csv\")\n",
    "from google.colab import files\n",
    "files.download(\"amazon.csv\")"
   ]
  },
  {
   "cell_type": "code",
   "execution_count": 12,
   "id": "mPTuUCwg1FgF",
   "metadata": {
    "id": "mPTuUCwg1FgF"
   },
   "outputs": [],
   "source": [
    "#we will take 400000 sample beacuse that number is enough for us"
   ]
  },
  {
   "cell_type": "code",
   "execution_count": 13,
   "id": "sFBMOHC311V2",
   "metadata": {
    "id": "sFBMOHC311V2"
   },
   "outputs": [],
   "source": [
    "df=df.sample(400000)"
   ]
  },
  {
   "cell_type": "code",
   "execution_count": 14,
   "id": "Bc7hsKYp16lq",
   "metadata": {
    "id": "Bc7hsKYp16lq"
   },
   "outputs": [],
   "source": [
    "#lets see a sample"
   ]
  },
  {
   "cell_type": "code",
   "execution_count": 15,
   "id": "k0-ia_6W2sMq",
   "metadata": {
    "colab": {
     "base_uri": "https://localhost:8080/"
    },
    "id": "k0-ia_6W2sMq",
    "outputId": "db11ecff-8c5b-4a39-f238-b354743c35c2"
   },
   "outputs": [
    {
     "name": "stdout",
     "output_type": "stream",
     "text": [
      "Very long and it works. I mean I'm using it to display on a 1080p TV from my desktop in the other room. What more could I ask?\n"
     ]
    }
   ],
   "source": [
    "sample_review = df[\"reviewText\"].iloc[16885]\n",
    "print(sample_review)"
   ]
  },
  {
   "cell_type": "code",
   "execution_count": 39,
   "id": "cvFTBJ0Q9_Uh",
   "metadata": {
    "colab": {
     "base_uri": "https://localhost:8080/"
    },
    "id": "cvFTBJ0Q9_Uh",
    "outputId": "0833f0fe-dda8-4a81-ae5a-485329ab56a7"
   },
   "outputs": [
    {
     "data": {
      "text/plain": [
       "reviewerID           0\n",
       "asin                 0\n",
       "reviewerName      5829\n",
       "helpful              0\n",
       "reviewText           0\n",
       "overall              0\n",
       "summary              0\n",
       "unixReviewTime       0\n",
       "reviewTime           0\n",
       "dtype: int64"
      ]
     },
     "execution_count": 39,
     "metadata": {},
     "output_type": "execute_result"
    }
   ],
   "source": [
    "df.isnull().sum()"
   ]
  },
  {
   "cell_type": "markdown",
   "id": "CRs9P4ZC3Ywb",
   "metadata": {
    "id": "CRs9P4ZC3Ywb"
   },
   "source": [
    "### NLP preprocesing"
   ]
  },
  {
   "cell_type": "code",
   "execution_count": 17,
   "id": "xZ7ikG8m2x-Z",
   "metadata": {
    "colab": {
     "base_uri": "https://localhost:8080/"
    },
    "id": "xZ7ikG8m2x-Z",
    "outputId": "41161c13-17ba-43c1-9b9d-24397c4524c6"
   },
   "outputs": [
    {
     "name": "stderr",
     "output_type": "stream",
     "text": [
      "<ipython-input-17-e796c156aa85>:2: FutureWarning: The default value of regex will change from True to False in a future version.\n",
      "  df['reviewText']=df['reviewText'].str.replace('[^\\w\\s]','') #remove punctuation\n",
      "<ipython-input-17-e796c156aa85>:3: FutureWarning: The default value of regex will change from True to False in a future version.\n",
      "  df['reviewText']=df['reviewText'].str.replace('\\d+','') # destroy the numbers\n"
     ]
    }
   ],
   "source": [
    "df['reviewText']=df['reviewText'].str.lower() #convert to lowercase\n",
    "df['reviewText']=df['reviewText'].str.replace('[^\\w\\s]','') #remove punctuation\n",
    "df['reviewText']=df['reviewText'].str.replace('\\d+','') # destroy the numbers\n",
    "df['reviewText']=df['reviewText'].str.replace('\\n','').replace('\\r','') # Removed new line and enter presses"
   ]
  },
  {
   "cell_type": "code",
   "execution_count": 22,
   "id": "XyDotG-p3Xcp",
   "metadata": {
    "id": "XyDotG-p3Xcp"
   },
   "outputs": [],
   "source": [
    "# nltk package"
   ]
  },
  {
   "cell_type": "code",
   "execution_count": 26,
   "id": "EbThnHxb5mJy",
   "metadata": {
    "colab": {
     "base_uri": "https://localhost:8080/"
    },
    "id": "EbThnHxb5mJy",
    "outputId": "8e41d3f0-8102-4cb4-e1c7-c33dbfcc74b3"
   },
   "outputs": [
    {
     "name": "stderr",
     "output_type": "stream",
     "text": [
      "[nltk_data] Downloading package punkt to /root/nltk_data...\n",
      "[nltk_data]   Package punkt is already up-to-date!\n",
      "[nltk_data] Downloading package wordnet to /root/nltk_data...\n"
     ]
    },
    {
     "data": {
      "text/plain": [
       "True"
      ]
     },
     "execution_count": 26,
     "metadata": {},
     "output_type": "execute_result"
    }
   ],
   "source": [
    "nltk.download('punkt')\n",
    "nltk.download('wordnet')"
   ]
  },
  {
   "cell_type": "code",
   "execution_count": 24,
   "id": "KAKnaiUS5mex",
   "metadata": {
    "id": "KAKnaiUS5mex"
   },
   "outputs": [],
   "source": [
    "# Tokenize by words\n",
    "df['reviewText'] = df['reviewText'].apply(lambda x: word_tokenize(x))"
   ]
  },
  {
   "cell_type": "code",
   "execution_count": 28,
   "id": "PLCcKsrh53QI",
   "metadata": {
    "id": "PLCcKsrh53QI"
   },
   "outputs": [],
   "source": [
    "# Initialize lemmatizer\n",
    "lemmatizer = WordNetLemmatizer()\n",
    "# Lemmatize words\n",
    "df['reviewText'] = df['reviewText'].apply(lambda tokens: [lemmatizer.lemmatize(word) for word in tokens])"
   ]
  },
  {
   "cell_type": "code",
   "execution_count": 29,
   "id": "-TJrcDl168tV",
   "metadata": {
    "id": "-TJrcDl168tV"
   },
   "outputs": [],
   "source": [
    "#check"
   ]
  },
  {
   "cell_type": "code",
   "execution_count": 30,
   "id": "BcoX0DCv8B8x",
   "metadata": {
    "colab": {
     "base_uri": "https://localhost:8080/",
     "height": 538
    },
    "id": "BcoX0DCv8B8x",
    "outputId": "760df9c3-c7e3-41cf-fd07-8a7ec75100e8"
   },
   "outputs": [
    {
     "data": {
      "text/html": [
       "\n",
       "  <div id=\"df-a930d3ab-0b98-4210-9bf2-5731220aeea0\" class=\"colab-df-container\">\n",
       "    <div>\n",
       "<style scoped>\n",
       "    .dataframe tbody tr th:only-of-type {\n",
       "        vertical-align: middle;\n",
       "    }\n",
       "\n",
       "    .dataframe tbody tr th {\n",
       "        vertical-align: top;\n",
       "    }\n",
       "\n",
       "    .dataframe thead th {\n",
       "        text-align: right;\n",
       "    }\n",
       "</style>\n",
       "<table border=\"1\" class=\"dataframe\">\n",
       "  <thead>\n",
       "    <tr style=\"text-align: right;\">\n",
       "      <th></th>\n",
       "      <th>reviewerID</th>\n",
       "      <th>asin</th>\n",
       "      <th>reviewerName</th>\n",
       "      <th>helpful</th>\n",
       "      <th>reviewText</th>\n",
       "      <th>overall</th>\n",
       "      <th>summary</th>\n",
       "      <th>unixReviewTime</th>\n",
       "      <th>reviewTime</th>\n",
       "    </tr>\n",
       "  </thead>\n",
       "  <tbody>\n",
       "    <tr>\n",
       "      <th>319177</th>\n",
       "      <td>A1A0UEGAM7OJGK</td>\n",
       "      <td>B000UOC3QK</td>\n",
       "      <td>Mr. Rev</td>\n",
       "      <td>[0, 0]</td>\n",
       "      <td>[maybe, a, software, problem, maybe, a, hardwa...</td>\n",
       "      <td>2</td>\n",
       "      <td>Would not stay connected</td>\n",
       "      <td>1305676800</td>\n",
       "      <td>05 18, 2011</td>\n",
       "    </tr>\n",
       "    <tr>\n",
       "      <th>179883</th>\n",
       "      <td>A3QL0RT8DISNGM</td>\n",
       "      <td>B000BWACX2</td>\n",
       "      <td>J. Lewis</td>\n",
       "      <td>[0, 0]</td>\n",
       "      <td>[easy, to, use, silence, about, of, the, stati...</td>\n",
       "      <td>5</td>\n",
       "      <td>compact, flexible, easy to use</td>\n",
       "      <td>1221436800</td>\n",
       "      <td>09 15, 2008</td>\n",
       "    </tr>\n",
       "    <tr>\n",
       "      <th>1128633</th>\n",
       "      <td>A3VWPDXLP7EFNO</td>\n",
       "      <td>B005FVNGRI</td>\n",
       "      <td>Anon</td>\n",
       "      <td>[2, 2]</td>\n",
       "      <td>[my, old, gb, iphone, is, running, out, of, sp...</td>\n",
       "      <td>2</td>\n",
       "      <td>Not Me-Proof</td>\n",
       "      <td>1391558400</td>\n",
       "      <td>02 5, 2014</td>\n",
       "    </tr>\n",
       "    <tr>\n",
       "      <th>1295143</th>\n",
       "      <td>A38CZDNPCEB3WZ</td>\n",
       "      <td>B007FH1KX2</td>\n",
       "      <td>M. Palmqusit</td>\n",
       "      <td>[1, 3]</td>\n",
       "      <td>[i, had, been, using, a, mixture, of, ii, flas...</td>\n",
       "      <td>5</td>\n",
       "      <td>Perfect for strobist's</td>\n",
       "      <td>1363651200</td>\n",
       "      <td>03 19, 2013</td>\n",
       "    </tr>\n",
       "    <tr>\n",
       "      <th>149946</th>\n",
       "      <td>A1TET60NZOM8HK</td>\n",
       "      <td>B0008EWSCQ</td>\n",
       "      <td>A Reader</td>\n",
       "      <td>[7, 8]</td>\n",
       "      <td>[i, didnt, want, to, pay, for, the, monthly, u...</td>\n",
       "      <td>5</td>\n",
       "      <td>pays for itself with a year and works great</td>\n",
       "      <td>1233360000</td>\n",
       "      <td>01 31, 2009</td>\n",
       "    </tr>\n",
       "  </tbody>\n",
       "</table>\n",
       "</div>\n",
       "    <div class=\"colab-df-buttons\">\n",
       "\n",
       "  <div class=\"colab-df-container\">\n",
       "    <button class=\"colab-df-convert\" onclick=\"convertToInteractive('df-a930d3ab-0b98-4210-9bf2-5731220aeea0')\"\n",
       "            title=\"Convert this dataframe to an interactive table.\"\n",
       "            style=\"display:none;\">\n",
       "\n",
       "  <svg xmlns=\"http://www.w3.org/2000/svg\" height=\"24px\" viewBox=\"0 -960 960 960\">\n",
       "    <path d=\"M120-120v-720h720v720H120Zm60-500h600v-160H180v160Zm220 220h160v-160H400v160Zm0 220h160v-160H400v160ZM180-400h160v-160H180v160Zm440 0h160v-160H620v160ZM180-180h160v-160H180v160Zm440 0h160v-160H620v160Z\"/>\n",
       "  </svg>\n",
       "    </button>\n",
       "\n",
       "  <style>\n",
       "    .colab-df-container {\n",
       "      display:flex;\n",
       "      gap: 12px;\n",
       "    }\n",
       "\n",
       "    .colab-df-convert {\n",
       "      background-color: #E8F0FE;\n",
       "      border: none;\n",
       "      border-radius: 50%;\n",
       "      cursor: pointer;\n",
       "      display: none;\n",
       "      fill: #1967D2;\n",
       "      height: 32px;\n",
       "      padding: 0 0 0 0;\n",
       "      width: 32px;\n",
       "    }\n",
       "\n",
       "    .colab-df-convert:hover {\n",
       "      background-color: #E2EBFA;\n",
       "      box-shadow: 0px 1px 2px rgba(60, 64, 67, 0.3), 0px 1px 3px 1px rgba(60, 64, 67, 0.15);\n",
       "      fill: #174EA6;\n",
       "    }\n",
       "\n",
       "    .colab-df-buttons div {\n",
       "      margin-bottom: 4px;\n",
       "    }\n",
       "\n",
       "    [theme=dark] .colab-df-convert {\n",
       "      background-color: #3B4455;\n",
       "      fill: #D2E3FC;\n",
       "    }\n",
       "\n",
       "    [theme=dark] .colab-df-convert:hover {\n",
       "      background-color: #434B5C;\n",
       "      box-shadow: 0px 1px 3px 1px rgba(0, 0, 0, 0.15);\n",
       "      filter: drop-shadow(0px 1px 2px rgba(0, 0, 0, 0.3));\n",
       "      fill: #FFFFFF;\n",
       "    }\n",
       "  </style>\n",
       "\n",
       "    <script>\n",
       "      const buttonEl =\n",
       "        document.querySelector('#df-a930d3ab-0b98-4210-9bf2-5731220aeea0 button.colab-df-convert');\n",
       "      buttonEl.style.display =\n",
       "        google.colab.kernel.accessAllowed ? 'block' : 'none';\n",
       "\n",
       "      async function convertToInteractive(key) {\n",
       "        const element = document.querySelector('#df-a930d3ab-0b98-4210-9bf2-5731220aeea0');\n",
       "        const dataTable =\n",
       "          await google.colab.kernel.invokeFunction('convertToInteractive',\n",
       "                                                    [key], {});\n",
       "        if (!dataTable) return;\n",
       "\n",
       "        const docLinkHtml = 'Like what you see? Visit the ' +\n",
       "          '<a target=\"_blank\" href=https://colab.research.google.com/notebooks/data_table.ipynb>data table notebook</a>'\n",
       "          + ' to learn more about interactive tables.';\n",
       "        element.innerHTML = '';\n",
       "        dataTable['output_type'] = 'display_data';\n",
       "        await google.colab.output.renderOutput(dataTable, element);\n",
       "        const docLink = document.createElement('div');\n",
       "        docLink.innerHTML = docLinkHtml;\n",
       "        element.appendChild(docLink);\n",
       "      }\n",
       "    </script>\n",
       "  </div>\n",
       "\n",
       "\n",
       "<div id=\"df-79f35c73-72e0-42df-bda0-c9c992135025\">\n",
       "  <button class=\"colab-df-quickchart\" onclick=\"quickchart('df-79f35c73-72e0-42df-bda0-c9c992135025')\"\n",
       "            title=\"Suggest charts\"\n",
       "            style=\"display:none;\">\n",
       "\n",
       "<svg xmlns=\"http://www.w3.org/2000/svg\" height=\"24px\"viewBox=\"0 0 24 24\"\n",
       "     width=\"24px\">\n",
       "    <g>\n",
       "        <path d=\"M19 3H5c-1.1 0-2 .9-2 2v14c0 1.1.9 2 2 2h14c1.1 0 2-.9 2-2V5c0-1.1-.9-2-2-2zM9 17H7v-7h2v7zm4 0h-2V7h2v10zm4 0h-2v-4h2v4z\"/>\n",
       "    </g>\n",
       "</svg>\n",
       "  </button>\n",
       "\n",
       "<style>\n",
       "  .colab-df-quickchart {\n",
       "      --bg-color: #E8F0FE;\n",
       "      --fill-color: #1967D2;\n",
       "      --hover-bg-color: #E2EBFA;\n",
       "      --hover-fill-color: #174EA6;\n",
       "      --disabled-fill-color: #AAA;\n",
       "      --disabled-bg-color: #DDD;\n",
       "  }\n",
       "\n",
       "  [theme=dark] .colab-df-quickchart {\n",
       "      --bg-color: #3B4455;\n",
       "      --fill-color: #D2E3FC;\n",
       "      --hover-bg-color: #434B5C;\n",
       "      --hover-fill-color: #FFFFFF;\n",
       "      --disabled-bg-color: #3B4455;\n",
       "      --disabled-fill-color: #666;\n",
       "  }\n",
       "\n",
       "  .colab-df-quickchart {\n",
       "    background-color: var(--bg-color);\n",
       "    border: none;\n",
       "    border-radius: 50%;\n",
       "    cursor: pointer;\n",
       "    display: none;\n",
       "    fill: var(--fill-color);\n",
       "    height: 32px;\n",
       "    padding: 0;\n",
       "    width: 32px;\n",
       "  }\n",
       "\n",
       "  .colab-df-quickchart:hover {\n",
       "    background-color: var(--hover-bg-color);\n",
       "    box-shadow: 0 1px 2px rgba(60, 64, 67, 0.3), 0 1px 3px 1px rgba(60, 64, 67, 0.15);\n",
       "    fill: var(--button-hover-fill-color);\n",
       "  }\n",
       "\n",
       "  .colab-df-quickchart-complete:disabled,\n",
       "  .colab-df-quickchart-complete:disabled:hover {\n",
       "    background-color: var(--disabled-bg-color);\n",
       "    fill: var(--disabled-fill-color);\n",
       "    box-shadow: none;\n",
       "  }\n",
       "\n",
       "  .colab-df-spinner {\n",
       "    border: 2px solid var(--fill-color);\n",
       "    border-color: transparent;\n",
       "    border-bottom-color: var(--fill-color);\n",
       "    animation:\n",
       "      spin 1s steps(1) infinite;\n",
       "  }\n",
       "\n",
       "  @keyframes spin {\n",
       "    0% {\n",
       "      border-color: transparent;\n",
       "      border-bottom-color: var(--fill-color);\n",
       "      border-left-color: var(--fill-color);\n",
       "    }\n",
       "    20% {\n",
       "      border-color: transparent;\n",
       "      border-left-color: var(--fill-color);\n",
       "      border-top-color: var(--fill-color);\n",
       "    }\n",
       "    30% {\n",
       "      border-color: transparent;\n",
       "      border-left-color: var(--fill-color);\n",
       "      border-top-color: var(--fill-color);\n",
       "      border-right-color: var(--fill-color);\n",
       "    }\n",
       "    40% {\n",
       "      border-color: transparent;\n",
       "      border-right-color: var(--fill-color);\n",
       "      border-top-color: var(--fill-color);\n",
       "    }\n",
       "    60% {\n",
       "      border-color: transparent;\n",
       "      border-right-color: var(--fill-color);\n",
       "    }\n",
       "    80% {\n",
       "      border-color: transparent;\n",
       "      border-right-color: var(--fill-color);\n",
       "      border-bottom-color: var(--fill-color);\n",
       "    }\n",
       "    90% {\n",
       "      border-color: transparent;\n",
       "      border-bottom-color: var(--fill-color);\n",
       "    }\n",
       "  }\n",
       "</style>\n",
       "\n",
       "  <script>\n",
       "    async function quickchart(key) {\n",
       "      const quickchartButtonEl =\n",
       "        document.querySelector('#' + key + ' button');\n",
       "      quickchartButtonEl.disabled = true;  // To prevent multiple clicks.\n",
       "      quickchartButtonEl.classList.add('colab-df-spinner');\n",
       "      try {\n",
       "        const charts = await google.colab.kernel.invokeFunction(\n",
       "            'suggestCharts', [key], {});\n",
       "      } catch (error) {\n",
       "        console.error('Error during call to suggestCharts:', error);\n",
       "      }\n",
       "      quickchartButtonEl.classList.remove('colab-df-spinner');\n",
       "      quickchartButtonEl.classList.add('colab-df-quickchart-complete');\n",
       "    }\n",
       "    (() => {\n",
       "      let quickchartButtonEl =\n",
       "        document.querySelector('#df-79f35c73-72e0-42df-bda0-c9c992135025 button');\n",
       "      quickchartButtonEl.style.display =\n",
       "        google.colab.kernel.accessAllowed ? 'block' : 'none';\n",
       "    })();\n",
       "  </script>\n",
       "</div>\n",
       "    </div>\n",
       "  </div>\n"
      ],
      "text/plain": [
       "             reviewerID        asin  reviewerName helpful  \\\n",
       "319177   A1A0UEGAM7OJGK  B000UOC3QK       Mr. Rev  [0, 0]   \n",
       "179883   A3QL0RT8DISNGM  B000BWACX2      J. Lewis  [0, 0]   \n",
       "1128633  A3VWPDXLP7EFNO  B005FVNGRI          Anon  [2, 2]   \n",
       "1295143  A38CZDNPCEB3WZ  B007FH1KX2  M. Palmqusit  [1, 3]   \n",
       "149946   A1TET60NZOM8HK  B0008EWSCQ      A Reader  [7, 8]   \n",
       "\n",
       "                                                reviewText  overall  \\\n",
       "319177   [maybe, a, software, problem, maybe, a, hardwa...        2   \n",
       "179883   [easy, to, use, silence, about, of, the, stati...        5   \n",
       "1128633  [my, old, gb, iphone, is, running, out, of, sp...        2   \n",
       "1295143  [i, had, been, using, a, mixture, of, ii, flas...        5   \n",
       "149946   [i, didnt, want, to, pay, for, the, monthly, u...        5   \n",
       "\n",
       "                                             summary  unixReviewTime  \\\n",
       "319177                      Would not stay connected      1305676800   \n",
       "179883                compact, flexible, easy to use      1221436800   \n",
       "1128633                                 Not Me-Proof      1391558400   \n",
       "1295143                       Perfect for strobist's      1363651200   \n",
       "149946   pays for itself with a year and works great      1233360000   \n",
       "\n",
       "          reviewTime  \n",
       "319177   05 18, 2011  \n",
       "179883   09 15, 2008  \n",
       "1128633   02 5, 2014  \n",
       "1295143  03 19, 2013  \n",
       "149946   01 31, 2009  "
      ]
     },
     "execution_count": 30,
     "metadata": {},
     "output_type": "execute_result"
    }
   ],
   "source": [
    "df.head()"
   ]
  },
  {
   "cell_type": "code",
   "execution_count": 31,
   "id": "dnR-MtB88o8a",
   "metadata": {
    "id": "dnR-MtB88o8a"
   },
   "outputs": [],
   "source": [
    "# we remove stopwords on modeling step"
   ]
  },
  {
   "cell_type": "markdown",
   "id": "OhWRvSUS85OX",
   "metadata": {
    "id": "OhWRvSUS85OX"
   },
   "source": [
    "#### Sentiment Analysis"
   ]
  },
  {
   "cell_type": "code",
   "execution_count": 32,
   "id": "UEcF0aRj8vsC",
   "metadata": {
    "id": "UEcF0aRj8vsC"
   },
   "outputs": [],
   "source": [
    "# preapare labels"
   ]
  },
  {
   "cell_type": "code",
   "execution_count": 33,
   "id": "KddM7_Az9Lyn",
   "metadata": {
    "id": "KddM7_Az9Lyn"
   },
   "outputs": [],
   "source": [
    "#checkpoint"
   ]
  },
  {
   "cell_type": "code",
   "execution_count": 34,
   "id": "ra4I7L4g9lTN",
   "metadata": {
    "id": "ra4I7L4g9lTN"
   },
   "outputs": [],
   "source": [
    "data=df"
   ]
  },
  {
   "cell_type": "code",
   "execution_count": 35,
   "id": "EWClXcvI9mSK",
   "metadata": {
    "id": "EWClXcvI9mSK"
   },
   "outputs": [],
   "source": [
    "# 4,5 is positive 1,2 is negaitive"
   ]
  },
  {
   "cell_type": "code",
   "execution_count": 41,
   "id": "bj2SbuIG9zBL",
   "metadata": {
    "id": "bj2SbuIG9zBL"
   },
   "outputs": [],
   "source": [
    "data[\"Label\"] = data[\"overall\"].map({1: 0, 2: 0, 5: 1, 4: 1})"
   ]
  },
  {
   "cell_type": "code",
   "execution_count": 42,
   "id": "vCX-tyJb-IDY",
   "metadata": {
    "id": "vCX-tyJb-IDY"
   },
   "outputs": [],
   "source": [
    "#reset indexes"
   ]
  },
  {
   "cell_type": "code",
   "execution_count": 43,
   "id": "-_OQLCWm-g0o",
   "metadata": {
    "id": "-_OQLCWm-g0o"
   },
   "outputs": [],
   "source": [
    "data.reset_index(drop=True,inplace=True)"
   ]
  },
  {
   "cell_type": "code",
   "execution_count": 45,
   "id": "MdKJRydU-i6p",
   "metadata": {
    "id": "MdKJRydU-i6p"
   },
   "outputs": [],
   "source": [
    "# mini visualization"
   ]
  },
  {
   "cell_type": "code",
   "execution_count": 48,
   "id": "0RYHyFCg-uar",
   "metadata": {
    "colab": {
     "base_uri": "https://localhost:8080/",
     "height": 449
    },
    "id": "0RYHyFCg-uar",
    "outputId": "712329a0-9ef8-4d6a-a5e4-6116c1fe830c"
   },
   "outputs": [
    {
     "data": {
      "image/png": "[encoded data removed]",
      "text/plain": [
       "<Figure size 640x480 with 1 Axes>"
      ]
     },
     "metadata": {},
     "output_type": "display_data"
    }
   ],
   "source": [
    "sns.countplot(x=data[\"Label\"]);"
   ]
  },
  {
   "cell_type": "code",
   "execution_count": 50,
   "id": "20j4xxpZ-wj7",
   "metadata": {
    "id": "20j4xxpZ-wj7"
   },
   "outputs": [],
   "source": [
    "#under sampling   (to 1)"
   ]
  },
  {
   "cell_type": "code",
   "execution_count": 55,
   "id": "zdH6h6jvAh7R",
   "metadata": {
    "id": "zdH6h6jvAh7R"
   },
   "outputs": [],
   "source": [
    "# Assuming your DataFrame has a column named 'class' instead of 'label'\n",
    "df_0 = data[data['Label'] == 0]  # MINORITY\n",
    "df_1 = data[data['Label'] == 1]  # MAJORITY\n",
    "\n",
    "# Downsample the majority class ('class' == 1) to balance with the minority class ('class' == 0)\n",
    "df_downsampled = df_1.sample(n=len(df_0), random_state=42).reset_index(drop=True)\n",
    "\n",
    "# Concatenate the downsampled majority class with the minority class\n",
    "balanced_df = pd.concat([df_0, df_downsampled], ignore_index=True)\n",
    "\n",
    "# Shuffle the DataFrame to randomize the order of rows\n",
    "balanced_df = balanced_df.sample(frac=1, random_state=42).reset_index(drop=True)\n"
   ]
  },
  {
   "cell_type": "code",
   "execution_count": 57,
   "id": "zq2uTrDKCOvD",
   "metadata": {
    "id": "zq2uTrDKCOvD"
   },
   "outputs": [],
   "source": [
    "#check"
   ]
  },
  {
   "cell_type": "code",
   "execution_count": 56,
   "id": "LfUBUJcNA9AU",
   "metadata": {
    "colab": {
     "base_uri": "https://localhost:8080/",
     "height": 449
    },
    "id": "LfUBUJcNA9AU",
    "outputId": "d4aed3d6-3751-429b-954c-d540dcb750fd"
   },
   "outputs": [
    {
     "data": {
      "image/png": "[encoded data removed]",
      "text/plain": [
       "<Figure size 640x480 with 1 Axes>"
      ]
     },
     "metadata": {},
     "output_type": "display_data"
    }
   ],
   "source": [
    "sns.countplot(x=balanced_df[\"Label\"]);"
   ]
  },
  {
   "cell_type": "code",
   "execution_count": 58,
   "id": "fQ2OEG5FCJa3",
   "metadata": {
    "id": "fQ2OEG5FCJa3"
   },
   "outputs": [],
   "source": [
    "data=balanced_df"
   ]
  },
  {
   "cell_type": "code",
   "execution_count": 59,
   "id": "k0m5m6hVCT1x",
   "metadata": {
    "id": "k0m5m6hVCT1x"
   },
   "outputs": [],
   "source": [
    "# x y split"
   ]
  },
  {
   "cell_type": "code",
   "execution_count": 60,
   "id": "iVHBJQ2WCaRV",
   "metadata": {
    "id": "iVHBJQ2WCaRV"
   },
   "outputs": [],
   "source": [
    "x=data[\"reviewText\"]\n",
    "y=data[\"Label\"]"
   ]
  },
  {
   "cell_type": "code",
   "execution_count": 61,
   "id": "vsaVV3joCooi",
   "metadata": {
    "id": "vsaVV3joCooi"
   },
   "outputs": [],
   "source": [
    "# vectorizing"
   ]
  },
  {
   "cell_type": "code",
   "execution_count": 65,
   "id": "Vkf3qsdgCrmT",
   "metadata": {
    "id": "Vkf3qsdgCrmT"
   },
   "outputs": [],
   "source": [
    "# Convert the list of documents into a list of strings\n",
    "documents_as_strings = [\" \".join(document) for document in x]\n",
    "\n",
    "# Create the CountVectorizer instance and fit_transform\n",
    "vect = CountVectorizer(stop_words=\"english\")\n",
    "x_transformed = vect.fit_transform(documents_as_strings)"
   ]
  },
  {
   "cell_type": "code",
   "execution_count": 66,
   "id": "6gqDVYfkCtTg",
   "metadata": {
    "id": "6gqDVYfkCtTg"
   },
   "outputs": [],
   "source": [
    "# train test split"
   ]
  },
  {
   "cell_type": "code",
   "execution_count": 80,
   "id": "AwUrtQwSDVWb",
   "metadata": {
    "id": "AwUrtQwSDVWb"
   },
   "outputs": [],
   "source": [
    "x_train,x_test,y_train,y_test=train_test_split(x_transformed,y,test_size=.20,random_state=42)"
   ]
  },
  {
   "cell_type": "code",
   "execution_count": 81,
   "id": "BtnxlDUwDfyp",
   "metadata": {
    "id": "BtnxlDUwDfyp"
   },
   "outputs": [],
   "source": [
    "# model"
   ]
  },
  {
   "cell_type": "code",
   "execution_count": 82,
   "id": "o8cIRkI0Dwfi",
   "metadata": {
    "id": "o8cIRkI0Dwfi"
   },
   "outputs": [],
   "source": [
    "from sklearn.svm import SVC\n",
    "s=SVC()"
   ]
  },
  {
   "cell_type": "code",
   "execution_count": 83,
   "id": "Rq78GD8YDxyr",
   "metadata": {
    "id": "Rq78GD8YDxyr"
   },
   "outputs": [],
   "source": [
    "#fiting"
   ]
  },
  {
   "cell_type": "code",
   "execution_count": 84,
   "id": "WtloZJEIEAr4",
   "metadata": {
    "id": "WtloZJEIEAr4"
   },
   "outputs": [],
   "source": [
    "y_train = y_train.astype(\"int32\")"
   ]
  },
  {
   "cell_type": "code",
   "execution_count": 85,
   "id": "3JYLNnnjD0AK",
   "metadata": {
    "id": "3JYLNnnjD0AK"
   },
   "outputs": [],
   "source": [
    "model = s.fit(x_train, y_train)"
   ]
  },
  {
   "cell_type": "code",
   "execution_count": 86,
   "id": "ON--Z8tBD1TW",
   "metadata": {
    "id": "ON--Z8tBD1TW"
   },
   "outputs": [],
   "source": [
    "#make predictions"
   ]
  },
  {
   "cell_type": "code",
   "execution_count": 87,
   "id": "gYPDdqGuEG-m",
   "metadata": {
    "id": "gYPDdqGuEG-m"
   },
   "outputs": [],
   "source": [
    "predictions=model.predict(x_test)"
   ]
  },
  {
   "cell_type": "code",
   "execution_count": 90,
   "id": "8TYQK3p_iqvQ",
   "metadata": {
    "id": "8TYQK3p_iqvQ"
   },
   "outputs": [],
   "source": [
    "# model accuracy"
   ]
  },
  {
   "cell_type": "code",
   "execution_count": 91,
   "id": "l5P13lCMi30X",
   "metadata": {
    "colab": {
     "base_uri": "https://localhost:8080/"
    },
    "id": "l5P13lCMi30X",
    "outputId": "75cc12fa-5a5f-48a7-934d-67fd9f0fab1c"
   },
   "outputs": [
    {
     "data": {
      "text/plain": [
       "0.8547895057962172"
      ]
     },
     "execution_count": 91,
     "metadata": {},
     "output_type": "execute_result"
    }
   ],
   "source": [
    "accuracy_score(predictions,y_test)"
   ]
  },
  {
   "cell_type": "code",
   "execution_count": 92,
   "id": "Pwi3zVWai-ow",
   "metadata": {
    "id": "Pwi3zVWai-ow"
   },
   "outputs": [],
   "source": [
    "#model save"
   ]
  },
  {
   "cell_type": "code",
   "execution_count": 93,
   "id": "GThJu8jugkaX",
   "metadata": {
    "colab": {
     "base_uri": "https://localhost:8080/"
    },
    "id": "GThJu8jugkaX",
    "outputId": "956ea876-be3f-4f02-865b-9fc95abd38e8"
   },
   "outputs": [
    {
     "data": {
      "text/plain": [
       "['model_sentiment analysis.joblib']"
      ]
     },
     "execution_count": 93,
     "metadata": {},
     "output_type": "execute_result"
    }
   ],
   "source": [
    "import joblib\n",
    "joblib.dump(model,\"model_sentiment analysis.joblib\")"
   ]
  },
  {
   "cell_type": "markdown",
   "id": "bzO-JZ7AjJOk",
   "metadata": {
    "id": "bzO-JZ7AjJOk"
   },
   "source": [
    "#### WordCloud"
   ]
  },
  {
   "cell_type": "code",
   "execution_count": 94,
   "id": "b6-Ly3N8hLD7",
   "metadata": {
    "id": "b6-Ly3N8hLD7"
   },
   "outputs": [],
   "source": [
    "#libraries"
   ]
  },
  {
   "cell_type": "code",
   "execution_count": 95,
   "id": "mhWiq3USjTtq",
   "metadata": {
    "colab": {
     "base_uri": "https://localhost:8080/"
    },
    "id": "mhWiq3USjTtq",
    "outputId": "18196210-facc-4711-ce0d-76cc85d329fd"
   },
   "outputs": [
    {
     "name": "stdout",
     "output_type": "stream",
     "text": [
      "Collecting stylecloud\n",
      "  Downloading stylecloud-0.5.2.tar.gz (262 kB)\n",
      "\u001b[2K     \u001b[90m━━━━━━━━━━━━━━━━━━━━━━━━━━━━━━━━━━━━━━━━\u001b[0m \u001b[32m262.1/262.1 kB\u001b[0m \u001b[31m1.6 MB/s\u001b[0m eta \u001b[36m0:00:00\u001b[0m\n",
      "\u001b[?25h  Preparing metadata (setup.py) ... \u001b[?25l\u001b[?25hdone\n",
      "Requirement already satisfied: wordcloud in /usr/local/lib/python3.10/dist-packages (from stylecloud) (1.9.2)\n",
      "Collecting icon-font-to-png (from stylecloud)\n",
      "  Downloading icon_font_to_png-0.4.1-py2.py3-none-any.whl (161 kB)\n",
      "\u001b[2K     \u001b[90m━━━━━━━━━━━━━━━━━━━━━━━━━━━━━━━━━━━━━━━━\u001b[0m \u001b[32m161.4/161.4 kB\u001b[0m \u001b[31m6.7 MB/s\u001b[0m eta \u001b[36m0:00:00\u001b[0m\n",
      "\u001b[?25hCollecting palettable (from stylecloud)\n",
      "  Downloading palettable-3.3.3-py2.py3-none-any.whl (332 kB)\n",
      "\u001b[2K     \u001b[90m━━━━━━━━━━━━━━━━━━━━━━━━━━━━━━━━━━━━━━━━\u001b[0m \u001b[32m332.3/332.3 kB\u001b[0m \u001b[31m9.6 MB/s\u001b[0m eta \u001b[36m0:00:00\u001b[0m\n",
      "\u001b[?25hCollecting fire (from stylecloud)\n",
      "  Downloading fire-0.5.0.tar.gz (88 kB)\n",
      "\u001b[2K     \u001b[90m━━━━━━━━━━━━━━━━━━━━━━━━━━━━━━━━━━━━━━━━\u001b[0m \u001b[32m88.3/88.3 kB\u001b[0m \u001b[31m11.4 MB/s\u001b[0m eta \u001b[36m0:00:00\u001b[0m\n",
      "\u001b[?25h  Preparing metadata (setup.py) ... \u001b[?25l\u001b[?25hdone\n",
      "Requirement already satisfied: matplotlib in /usr/local/lib/python3.10/dist-packages (from stylecloud) (3.7.1)\n",
      "Requirement already satisfied: six in /usr/local/lib/python3.10/dist-packages (from fire->stylecloud) (1.16.0)\n",
      "Requirement already satisfied: termcolor in /usr/local/lib/python3.10/dist-packages (from fire->stylecloud) (2.3.0)\n",
      "Requirement already satisfied: Pillow>=4.0.0 in /usr/local/lib/python3.10/dist-packages (from icon-font-to-png->stylecloud) (9.4.0)\n",
      "Requirement already satisfied: requests>=2.12.5 in /usr/local/lib/python3.10/dist-packages (from icon-font-to-png->stylecloud) (2.31.0)\n",
      "Collecting tinycss>=0.4 (from icon-font-to-png->stylecloud)\n",
      "  Downloading tinycss-0.4.tar.gz (87 kB)\n",
      "\u001b[2K     \u001b[90m━━━━━━━━━━━━━━━━━━━━━━━━━━━━━━━━━━━━━━━━\u001b[0m \u001b[32m87.8/87.8 kB\u001b[0m \u001b[31m9.4 MB/s\u001b[0m eta \u001b[36m0:00:00\u001b[0m\n",
      "\u001b[?25h  Preparing metadata (setup.py) ... \u001b[?25l\u001b[?25hdone\n",
      "Requirement already satisfied: contourpy>=1.0.1 in /usr/local/lib/python3.10/dist-packages (from matplotlib->stylecloud) (1.2.0)\n",
      "Requirement already satisfied: cycler>=0.10 in /usr/local/lib/python3.10/dist-packages (from matplotlib->stylecloud) (0.12.1)\n",
      "Requirement already satisfied: fonttools>=4.22.0 in /usr/local/lib/python3.10/dist-packages (from matplotlib->stylecloud) (4.45.1)\n",
      "Requirement already satisfied: kiwisolver>=1.0.1 in /usr/local/lib/python3.10/dist-packages (from matplotlib->stylecloud) (1.4.5)\n",
      "Requirement already satisfied: numpy>=1.20 in /usr/local/lib/python3.10/dist-packages (from matplotlib->stylecloud) (1.23.5)\n",
      "Requirement already satisfied: packaging>=20.0 in /usr/local/lib/python3.10/dist-packages (from matplotlib->stylecloud) (23.2)\n",
      "Requirement already satisfied: pyparsing>=2.3.1 in /usr/local/lib/python3.10/dist-packages (from matplotlib->stylecloud) (3.1.1)\n",
      "Requirement already satisfied: python-dateutil>=2.7 in /usr/local/lib/python3.10/dist-packages (from matplotlib->stylecloud) (2.8.2)\n",
      "Requirement already satisfied: charset-normalizer<4,>=2 in /usr/local/lib/python3.10/dist-packages (from requests>=2.12.5->icon-font-to-png->stylecloud) (3.3.2)\n",
      "Requirement already satisfied: idna<4,>=2.5 in /usr/local/lib/python3.10/dist-packages (from requests>=2.12.5->icon-font-to-png->stylecloud) (3.6)\n",
      "Requirement already satisfied: urllib3<3,>=1.21.1 in /usr/local/lib/python3.10/dist-packages (from requests>=2.12.5->icon-font-to-png->stylecloud) (2.0.7)\n",
      "Requirement already satisfied: certifi>=2017.4.17 in /usr/local/lib/python3.10/dist-packages (from requests>=2.12.5->icon-font-to-png->stylecloud) (2023.11.17)\n",
      "Building wheels for collected packages: stylecloud, fire, tinycss\n",
      "  Building wheel for stylecloud (setup.py) ... \u001b[?25l\u001b[?25hdone\n",
      "  Created wheel for stylecloud: filename=stylecloud-0.5.2-py3-none-any.whl size=259494 sha256=65e050838dacd6a63cd3044cdb61023c24a74e1f8da502db9fff0a65b6ddd5bb\n",
      "  Stored in directory: /root/.cache/pip/wheels/aa/c8/27/9374f4fc7133015d902b5e2c75ad951edd57eb1ae948495915\n",
      "  Building wheel for fire (setup.py) ... \u001b[?25l\u001b[?25hdone\n",
      "  Created wheel for fire: filename=fire-0.5.0-py2.py3-none-any.whl size=116934 sha256=49897805005153b0f43bcf653272e06e71e08759ca3f08f6e3e289c205442d8f\n",
      "  Stored in directory: /root/.cache/pip/wheels/90/d4/f7/9404e5db0116bd4d43e5666eaa3e70ab53723e1e3ea40c9a95\n",
      "  Building wheel for tinycss (setup.py) ... \u001b[?25l\u001b[?25hdone\n",
      "  Created wheel for tinycss: filename=tinycss-0.4-cp310-cp310-linux_x86_64.whl size=307730 sha256=2cfc2b0c3dcd139e57d2ff258e17c6f10fba338b763ecc29cba2ecec3758470c\n",
      "  Stored in directory: /root/.cache/pip/wheels/39/52/4c/ca7bc9c8bb0fc4789d806bf78cac9d230efb3d3d8082e247c6\n",
      "Successfully built stylecloud fire tinycss\n",
      "Installing collected packages: tinycss, palettable, fire, icon-font-to-png, stylecloud\n",
      "Successfully installed fire-0.5.0 icon-font-to-png-0.4.1 palettable-3.3.3 stylecloud-0.5.2 tinycss-0.4\n"
     ]
    }
   ],
   "source": [
    "!pip install stylecloud"
   ]
  },
  {
   "cell_type": "code",
   "execution_count": 102,
   "id": "-frMhpS1mC9S",
   "metadata": {
    "id": "-frMhpS1mC9S"
   },
   "outputs": [],
   "source": [
    "import stylecloud"
   ]
  },
  {
   "cell_type": "code",
   "execution_count": 103,
   "id": "i7IqpSrajmge",
   "metadata": {
    "id": "i7IqpSrajmge"
   },
   "outputs": [],
   "source": [
    "#prepare data"
   ]
  },
  {
   "cell_type": "code",
   "execution_count": 104,
   "id": "zhPr2hUckJUP",
   "metadata": {
    "id": "zhPr2hUckJUP"
   },
   "outputs": [],
   "source": [
    "text_data_1 = ' '.join(df_1['reviewText'].astype(str))\n",
    "text_data_0 = ' '.join(df_0['reviewText'].astype(str))"
   ]
  },
  {
   "cell_type": "code",
   "execution_count": null,
   "id": "1UfNguJjk4x8",
   "metadata": {
    "id": "1UfNguJjk4x8"
   },
   "outputs": [],
   "source": [
    "# Generate styled word cloud 1\n",
    "stylecloud.gen_stylecloud(text_data_1, output_name=\"ch1.png\")"
   ]
  },
  {
   "cell_type": "code",
   "execution_count": null,
   "id": "URUVZOcVl86c",
   "metadata": {
    "id": "URUVZOcVl86c"
   },
   "outputs": [],
   "source": [
    "# Generate styled word cloud 2\n",
    "stylecloud.gen_stylecloud(text_data_0, output_name=\"ch0.png\")"
   ]
  },
  {
   "cell_type": "code",
   "execution_count": 1,
   "id": "4OTInJHZmGRY",
   "metadata": {
    "id": "4OTInJHZmGRY"
   },
   "outputs": [],
   "source": [
    "#sources"
   ]
  },
  {
   "cell_type": "markdown",
   "id": "39257709",
   "metadata": {},
   "source": [
    "-Zafer Acar Notes -[https://poe.com/chat/2rhcfi4djoj4u359vfr]"
   ]
  }
 ],
 "metadata": {
  "colab": {
   "provenance": []
  },
  "kernelspec": {
   "display_name": "Python 3 (ipykernel)",
   "language": "python",
   "name": "python3"
  },
  "language_info": {
   "codemirror_mode": {
    "name": "ipython",
    "version": 3
   },
   "file_extension": ".py",
   "mimetype": "text/x-python",
   "name": "python",
   "nbconvert_exporter": "python",
   "pygments_lexer": "ipython3",
   "version": "3.9.13"
  }
 },
 "nbformat": 4,
 "nbformat_minor": 5
}
